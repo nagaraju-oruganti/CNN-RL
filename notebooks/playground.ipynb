{
 "cells": [
  {
   "cell_type": "code",
   "execution_count": 1,
   "metadata": {},
   "outputs": [],
   "source": [
    "import yfinance as yf\n",
    "import pandas as pd\n",
    "import numpy as np\n",
    "import seaborn as sns\n",
    "import matplotlib.pyplot as plt\n",
    "sns.set_style('whitegrid')\n",
    "from pyts.image import GramianAngularField"
   ]
  },
  {
   "cell_type": "code",
   "execution_count": 2,
   "metadata": {},
   "outputs": [
    {
     "name": "stdout",
     "output_type": "stream",
     "text": [
      "[*********************100%***********************]  1 of 1 completed\n"
     ]
    }
   ],
   "source": [
    "## load data\n",
    "tickers = ['RELIANCE.NS']\n",
    "start, end = '2016-01-01', '2021-12-31'\n",
    "stock_data = yf.download(tickers = tickers, \n",
    "                 start = start, \n",
    "                 end = end, \n",
    "                 progress=True, \n",
    "                 interval = '1d')"
   ]
  },
  {
   "cell_type": "code",
   "execution_count": 4,
   "metadata": {},
   "outputs": [],
   "source": [
    "def make_label(typical_prices, next_close_price, n = 1.5):\n",
    "    # bollenger band\n",
    "    mean_price = np.mean(typical_prices)\n",
    "    std_dev = np.std(typical_prices)\n",
    "    if next_close_price >= mean_price + std_dev * n:\n",
    "        label = 1               # price appricated      (Sell signal)\n",
    "    elif next_close_price <= mean_price - std_dev * n:\n",
    "        label = 2               # price depreciated     (Buy opportunity)\n",
    "    else:\n",
    "        label = 3               # price indifferent      (indifferent to make decision)\n",
    "    return label"
   ]
  },
  {
   "cell_type": "code",
   "execution_count": 6,
   "metadata": {},
   "outputs": [],
   "source": [
    "ohlc_columns = ['Open', 'High', 'Low', 'Close']\n",
    "w = 28          # window size\n",
    "data = []\n",
    "gasf = GramianAngularField(image_size=w, method = 'summation')\n",
    "for i in range(len(stock_data)-w - 1, -1, -1):\n",
    "    gasf_images = [gasf.transform([stock_data[c][i:i+w]]) for c in ohlc_columns]\n",
    "    typical_prices = (stock_data['High'][i:i+w] + stock_data['Low'][i:i+w] + stock_data['Close'][i:i+w]) /3 \n",
    "    label = make_label(typical_prices = typical_prices, \n",
    "                       next_close_price = stock_data['Close'][i+w])\n",
    "    combined_gasf_image = np.array(gasf_images)#/len(gasf_images)\n",
    "    data.append((i, combined_gasf_image, label))\n",
    "    break"
   ]
  },
  {
   "cell_type": "code",
   "execution_count": 17,
   "metadata": {},
   "outputs": [
    {
     "data": {
      "text/plain": [
       "(4, 28, 28)"
      ]
     },
     "execution_count": 17,
     "metadata": {},
     "output_type": "execute_result"
    }
   ],
   "source": [
    "np.vstack(gasf_images).shape"
   ]
  },
  {
   "cell_type": "code",
   "execution_count": 16,
   "metadata": {},
   "outputs": [
    {
     "data": {
      "text/plain": [
       "(4, 1, 28, 28)"
      ]
     },
     "execution_count": 16,
     "metadata": {},
     "output_type": "execute_result"
    }
   ],
   "source": [
    "np.array(gasf_images).shape"
   ]
  },
  {
   "cell_type": "code",
   "execution_count": 57,
   "metadata": {},
   "outputs": [
    {
     "data": {
      "text/plain": [
       "Counter({3: 912, 1: 332, 2: 209})"
      ]
     },
     "execution_count": 57,
     "metadata": {},
     "output_type": "execute_result"
    }
   ],
   "source": [
    "from collections import Counter\n",
    "labels = [d[-1] for d in data]\n",
    "Counter(labels)"
   ]
  },
  {
   "cell_type": "code",
   "execution_count": 58,
   "metadata": {},
   "outputs": [],
   "source": []
  },
  {
   "cell_type": "code",
   "execution_count": 65,
   "metadata": {},
   "outputs": [],
   "source": [
    "import pickle\n",
    "with open('../data/test_HDFCBANK.NS.pkl', 'rb') as f:\n",
    "    data = pickle.load(f)"
   ]
  },
  {
   "cell_type": "code",
   "execution_count": 82,
   "metadata": {},
   "outputs": [
    {
     "data": {
      "image/png": "[encoded data removed]",
      "text/plain": [
       "<Figure size 640x480 with 1 Axes>"
      ]
     },
     "metadata": {},
     "output_type": "display_data"
    }
   ],
   "source": [
    "plt.imshow(data[120][1][-1], cmap='viridis', aspect='auto')\n",
    "#plt.axis('off')\n",
    "plt.show()"
   ]
  },
  {
   "cell_type": "code",
   "execution_count": 87,
   "metadata": {},
   "outputs": [
    {
     "data": {
      "text/plain": [
       "array([-0.4899018 , -0.45438421, -0.6123602 , -0.89813367, -0.96892478,\n",
       "       -0.98119678, -0.93479429, -0.94746058, -0.95849324, -0.95871371,\n",
       "       -0.70205082, -0.8082009 , -0.82080449, -0.87771289, -0.94480858,\n",
       "       -0.79081404, -0.24050539, -0.18422287, -0.69059254, -0.76353561,\n",
       "       -0.84832492, -0.97081357, -0.88973966, -0.05084613])"
      ]
     },
     "execution_count": 87,
     "metadata": {},
     "output_type": "execute_result"
    }
   ],
   "source": [
    "data[120][1][-1][0, :]"
   ]
  },
  {
   "cell_type": "code",
   "execution_count": null,
   "metadata": {},
   "outputs": [],
   "source": []
  },
  {
   "cell_type": "markdown",
   "metadata": {},
   "source": [
    "RL data arrangement"
   ]
  },
  {
   "cell_type": "code",
   "execution_count": 11,
   "metadata": {},
   "outputs": [],
   "source": [
    "import pandas as pd\n",
    "import numpy as np\n",
    "import pickle"
   ]
  },
  {
   "cell_type": "code",
   "execution_count": 12,
   "metadata": {},
   "outputs": [],
   "source": [
    "kind = 'train'\n",
    "tickers = ['RELIANCE.NS', 'TCS.NS', 'HDFC.NS', 'INFY.NS', 'HINDUNILVR.NS', 'ICICIBANK.NS', 'HDFCBANK.NS', \n",
    "           'BHARTIARTL.NS', 'KOTAKBANK.NS', 'WIPRO.NS', 'LT.NS']\n",
    "\n",
    "# load\n",
    "data = {}\n",
    "for tick in tickers:\n",
    "    with open(f'../data/{kind}_{tick}.pkl', 'rb') as f:\n",
    "        data[tick] = pickle.load(f)[::-1]"
   ]
  },
  {
   "cell_type": "code",
   "execution_count": 30,
   "metadata": {},
   "outputs": [],
   "source": [
    "## lets put together prices first\n",
    "prices = {}\n",
    "labels = {}\n",
    "for tick in tickers:\n",
    "    prices[tick] = [item[3] for item in data[tick]]\n",
    "    labels[tick] = [item[2] for item in data[tick]]"
   ]
  },
  {
   "cell_type": "code",
   "execution_count": 32,
   "metadata": {},
   "outputs": [],
   "source": [
    "df_prices = pd.DataFrame.from_dict(prices)\n",
    "df_labels = pd.DataFrame.from_dict(labels)"
   ]
  },
  {
   "cell_type": "code",
   "execution_count": 43,
   "metadata": {},
   "outputs": [],
   "source": [
    "images = []\n",
    "labels = []\n",
    "for idx in range(len(df_labels)):\n",
    "    batch_images = [data[tick][idx][1] for tick in tickers if data[tick][idx][0] == idx]\n",
    "    batch_labels = [data[tick][idx][2] for tick in tickers if data[tick][idx][0] == idx]\n",
    "    images.append(batch_images)\n",
    "    labels.append(batch_labels)\n",
    "        "
   ]
  },
  {
   "cell_type": "code",
   "execution_count": 44,
   "metadata": {},
   "outputs": [],
   "source": [
    "for i in images:\n",
    "    assert len(i) == len(tickers)"
   ]
  },
  {
   "cell_type": "code",
   "execution_count": 47,
   "metadata": {},
   "outputs": [
    {
     "data": {
      "text/plain": [
       "((11, 1, 24, 24), (11,))"
      ]
     },
     "execution_count": 47,
     "metadata": {},
     "output_type": "execute_result"
    }
   ],
   "source": [
    "np.array(images[-1]).shape, np.array(labels[-1]).shape"
   ]
  },
  {
   "cell_type": "code",
   "execution_count": null,
   "metadata": {},
   "outputs": [],
   "source": []
  }
 ],
 "metadata": {
  "kernelspec": {
   "display_name": "base",
   "language": "python",
   "name": "python3"
  },
  "language_info": {
   "codemirror_mode": {
    "name": "ipython",
    "version": 3
   },
   "file_extension": ".py",
   "mimetype": "text/x-python",
   "name": "python",
   "nbconvert_exporter": "python",
   "pygments_lexer": "ipython3",
   "version": "3.10.9"
  },
  "orig_nbformat": 4
 },
 "nbformat": 4,
 "nbformat_minor": 2
}
